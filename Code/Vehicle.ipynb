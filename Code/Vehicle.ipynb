{
 "cells": [
  {
   "cell_type": "markdown",
   "metadata": {},
   "source": [
    "Importing Library"
   ]
  },
  {
   "cell_type": "code",
   "execution_count": 1,
   "metadata": {},
   "outputs": [],
   "source": [
    "import cv2\n",
    "import csv\n",
    "import numpy as np\n",
    "from follower import *\n"
   ]
  },
  {
   "cell_type": "markdown",
   "metadata": {},
   "source": [
    "Capturing Video and initialize tracking "
   ]
  },
  {
   "cell_type": "code",
   "execution_count": 2,
   "metadata": {},
   "outputs": [],
   "source": [
    "follower = track()\n",
    "cap = cv2.VideoCapture('cars2.mp4')\n",
    "input = 320"
   ]
  },
  {
   "cell_type": "markdown",
   "metadata": {},
   "source": [
    "CocoDataset on Yolov3-320"
   ]
  },
  {
   "cell_type": "code",
   "execution_count": 3,
   "metadata": {},
   "outputs": [
    {
     "name": "stdout",
     "output_type": "stream",
     "text": [
      "['person', 'bicycle', 'car', 'motorbike', 'aeroplane', 'bus', 'train', 'truck', 'boat', 'traffic light', 'fire hydrant', 'stop sign', 'parking meter', 'bench', 'bird', 'cat', 'dog', 'horse', 'sheep', 'cow', 'elephant', 'bear', 'zebra', 'giraffe', 'backpack', 'umbrella', 'handbag', 'tie', 'suitcase', 'frisbee', 'skis', 'snowboard', 'sports ball', 'kite', 'baseball bat', 'baseball glove', 'skateboard', 'surfboard', 'tennis racket', 'bottle', 'wine glass', 'cup', 'fork', 'knife', 'spoon', 'bowl', 'banana', 'apple', 'sandwich', 'orange', 'broccoli', 'carrot', 'hot dog', 'pizza', 'donut', 'cake', 'chair', 'sofa', 'pottedplant', 'bed', 'diningtable', 'toilet', 'tvmonitor', 'laptop', 'mouse', 'remote', 'keyboard', 'cell phone', 'microwave', 'oven', 'toaster', 'sink', 'refrigerator', 'book', 'clock', 'vase', 'scissors', 'teddy bear', 'hair drier', 'toothbrush']\n",
      "80\n"
     ]
    }
   ],
   "source": [
    "clsname = open(\"coco.names\").read().strip().split('\\n')\n",
    "print(clsname)\n",
    "print(len(clsname))\n",
    "\n",
    "req_clss_index = [2, 3, 5, 7]\n",
    "\n",
    "detected_clsname = []\n",
    "\n",
    "modelConfiguration = 'yolov3-320.cfg'\n",
    "modelWeigheights = 'yolov3-320.weights'\n",
    "\n",
    "net = cv2.dnn.readNetFromDarknet(modelConfiguration, modelWeigheights)\n"
   ]
  },
  {
   "cell_type": "code",
   "execution_count": 4,
   "metadata": {},
   "outputs": [],
   "source": [
    "np.random.seed(42)\n",
    "colors = np.random.randint(0, 255, size=(len(clsname), 3), dtype='uint8')"
   ]
  },
  {
   "cell_type": "markdown",
   "metadata": {},
   "source": [
    "Finding the points of the detected Vehicals "
   ]
  },
  {
   "cell_type": "code",
   "execution_count": 5,
   "metadata": {},
   "outputs": [],
   "source": [
    "def Point_representation(value_x, value_y, value_width, value_height):\n",
    "    x1=int(value_width/2)\n",
    "    y1=int(value_height/2)\n",
    "    cx = value_x+x1\n",
    "    cy=value_y+y1\n",
    "    return cx, cy"
   ]
  },
  {
   "cell_type": "markdown",
   "metadata": {},
   "source": [
    "Making list of vehicals passing through the center line "
   ]
  },
  {
   "cell_type": "code",
   "execution_count": 6,
   "metadata": {},
   "outputs": [],
   "source": [
    "temp_Vehicals_going_up = []\n",
    "temp_Vehicals_going_down = []\n",
    "Vehicals_going_up = [0, 0, 0, 0]\n",
    "Vehicals_going_down = [0, 0, 0, 0]"
   ]
  },
  {
   "cell_type": "markdown",
   "metadata": {},
   "source": [
    "Function to find and append vehical going up or down and updating the list "
   ]
  },
  {
   "cell_type": "code",
   "execution_count": 7,
   "metadata": {},
   "outputs": [],
   "source": [
    "def count_vehicle(box_id, frame_taken):\n",
    "\n",
    "    value_x, value_y, value_width, value_height, id, index = box_id\n",
    "\n",
    "    center = Point_representation(value_x, value_y, value_width, value_height)\n",
    "    ix, iy = center\n",
    "\n",
    "    if (iy > 240) and (iy < 225):\n",
    "\n",
    "        if id not in temp_Vehicals_going_up:\n",
    "            temp_Vehicals_going_up.append(id)\n",
    "\n",
    "    elif iy < 210 and iy > 225:\n",
    "        if id not in temp_Vehicals_going_down:\n",
    "            temp_Vehicals_going_down.append(id)\n",
    "            \n",
    "    elif iy < 240:\n",
    "        if id in temp_Vehicals_going_down:\n",
    "            temp_Vehicals_going_down.remove(id)\n",
    "            Vehicals_going_up[index] = Vehicals_going_up[index]+1\n",
    "\n",
    "    elif iy > 210:\n",
    "        if id in temp_Vehicals_going_up:\n",
    "            temp_Vehicals_going_up.remove(id)\n",
    "            Vehicals_going_down[index] = Vehicals_going_down[index] + 1\n",
    "\n",
    "    cv2.circle(frame_taken, center, 2, (0, 0, 255), -1)  \n"
   ]
  },
  {
   "cell_type": "markdown",
   "metadata": {},
   "source": [
    "Post processing"
   ]
  },
  {
   "cell_type": "code",
   "execution_count": 8,
   "metadata": {},
   "outputs": [],
   "source": [
    "def postProcess(outputs,frame_taken):\n",
    "    global detected_clsname \n",
    "    height, width = frame_taken.shape[:2]\n",
    "    boxes = []\n",
    "    classIds = []\n",
    "    conf_scr = []\n",
    "    detection = []\n",
    "    for output in outputs:\n",
    "        for det in output:\n",
    "            scr = det[5:]\n",
    "            classId = np.argmax(scr)\n",
    "            conf = scr[classId]\n",
    "            if classId in req_clss_index:\n",
    "                if conf > 0.2:\n",
    "                    # print(classId)\n",
    "                    value_width,value_height = int(det[2]*width) , int(det[3]*height)\n",
    "                    value_x,value_y = int((det[0]*width)-value_width/2) , int((det[1]*height)-value_height/2)\n",
    "                    boxes.append([value_x,value_y,value_width,value_height])\n",
    "                    classIds.append(classId)\n",
    "                    conf_scr.append(float(conf))\n",
    "\n",
    "    indices = cv2.dnn.NMSBoxes(boxes, conf_scr, 0.2, 0.2)\n",
    "   \n",
    "    for i in indices.flatten():\n",
    "        value_x, value_y, value_width, value_height = boxes[i][0], boxes[i][1], boxes[i][2], boxes[i][3]\n",
    "\n",
    "        color = [int(c) for c in colors[classIds[i]]]\n",
    "        name = clsname[classIds[i]]\n",
    "        detected_clsname.append(name)\n",
    "\n",
    "        cv2.putText(frame_taken,f'{name.upper()} {int(conf_scr[i]*100)}%',\n",
    "                  (value_x, value_y-10), cv2.FONT_HERSHEY_SIMPLEX, 0.5, color, 1)\n",
    "\n",
    "        cv2.rectangle(frame_taken, (value_x, value_y), (value_x + value_width, value_y + value_height), color, 1)\n",
    "        detection.append([value_x, value_y, value_width, value_height, req_clss_index.index(classIds[i])])\n",
    "\n",
    "    boxes_ids = follower.update(detection)\n",
    "    for box_id in boxes_ids:\n",
    "        count_vehicle(box_id, frame_taken)\n"
   ]
  },
  {
   "cell_type": "markdown",
   "metadata": {},
   "source": [
    "Annotations on the video"
   ]
  },
  {
   "cell_type": "code",
   "execution_count": 9,
   "metadata": {},
   "outputs": [],
   "source": [
    "def video_run():\n",
    "    while True:\n",
    "        success, frame_taken = cap.read()\n",
    "        frame_taken = cv2.resize(frame_taken,(0,0),None,0.5,0.5)\n",
    "        ih, iw, channels = frame_taken.shape\n",
    "        blob = cv2.dnn.blobFromImage(frame_taken, 1 / 255, (input, input), [0, 0, 0], 1, crop=False)\n",
    "\n",
    "        net.setInput(blob)\n",
    "        layersNames = net.getLayerNames()\n",
    "        outputNames = [(layersNames[i - 1]) for i in net.getUnconnectedOutLayers()]\n",
    "\n",
    "        outputs = net.forward(outputNames)\n",
    "    \n",
    "       \n",
    "        postProcess(outputs,frame_taken)\n",
    "\n",
    "\n",
    "        cv2.line(frame_taken, (0, 225), (iw, 225), (255, 0, 255), 2)\n",
    "        cv2.line(frame_taken, (0, 240), (iw, 240), (0, 110, 255), 1)\n",
    "        cv2.line(frame_taken, (0, 210), (iw, 210), (0, 110, 255),1 )\n",
    "\n",
    "        cv2.putText(frame_taken, \"Up\", (110, 20), cv2.FONT_HERSHEY_SIMPLEX, 0.5, (0, 0, 255), 1)\n",
    "        cv2.putText(frame_taken, \"Down\", (160, 20), cv2.FONT_HERSHEY_SIMPLEX, 0.5, (0, 0, 255), 1)\n",
    "        cv2.putText(frame_taken, \"Car:        \"+str(Vehicals_going_up[0])+\"     \"+ str(Vehicals_going_down[0]), (20, 40), cv2.FONT_HERSHEY_SIMPLEX, 0.5, (0, 0, 255), 1)\n",
    "        cv2.putText(frame_taken, \"Motorbike:  \"+str(Vehicals_going_up[1])+\"     \"+ str(Vehicals_going_down[1]), (20, 60), cv2.FONT_HERSHEY_SIMPLEX, 0.5, (0, 0, 255), 1)\n",
    "        cv2.putText(frame_taken, \"Bus:        \"+str(Vehicals_going_up[2])+\"     \"+ str(Vehicals_going_down[2]), (20, 80), cv2.FONT_HERSHEY_SIMPLEX, 0.5, (0, 0, 255), 1)\n",
    "        cv2.putText(frame_taken, \"Truck:      \"+str(Vehicals_going_up[3])+\"     \"+ str(Vehicals_going_down[3]), (20, 100), cv2.FONT_HERSHEY_SIMPLEX, 0.5, (0, 0, 255), 1)\n",
    "\n",
    "        cv2.imshow('Output', frame_taken)\n",
    "\n",
    "        if cv2.waitKey(1) == ord('q'):\n",
    "            break\n",
    "\n",
    "    with open(\"data.csv\", 'w') as f1:\n",
    "        csvedit = csv.writer(f1)\n",
    "        csvedit.writerow(['Direction', 'car', 'motorbike', 'bus', 'truck'])\n",
    "        Vehicals_going_up.insert(0, \"Up\")\n",
    "        Vehicals_going_down.insert(0, \"Down\")\n",
    "        csvedit.writerow(Vehicals_going_up)\n",
    "        csvedit.writerow(Vehicals_going_down)\n",
    "    f1.close()\n",
    "    cap.release()\n",
    "    cv2.destroyAllWindows()"
   ]
  },
  {
   "cell_type": "code",
   "execution_count": 10,
   "metadata": {},
   "outputs": [],
   "source": [
    "video_run()"
   ]
  }
 ],
 "metadata": {
  "interpreter": {
   "hash": "a622f743239f95bd424918f824cb283ce14570e5d930892b3924b3f623b4ba82"
  },
  "kernelspec": {
   "display_name": "Python 3.7.6 64-bit",
   "language": "python",
   "name": "python3"
  },
  "language_info": {
   "codemirror_mode": {
    "name": "ipython",
    "version": 3
   },
   "file_extension": ".py",
   "mimetype": "text/x-python",
   "name": "python",
   "nbconvert_exporter": "python",
   "pygments_lexer": "ipython3",
   "version": "3.7.6"
  },
  "orig_nbformat": 4
 },
 "nbformat": 4,
 "nbformat_minor": 2
}
